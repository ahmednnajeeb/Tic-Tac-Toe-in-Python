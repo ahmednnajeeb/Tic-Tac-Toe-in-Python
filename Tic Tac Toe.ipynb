{
 "cells": [
  {
   "cell_type": "markdown",
   "id": "f7c2b4a6",
   "metadata": {},
   "source": [
    "## Tic Tac Toe in Python"
   ]
  },
  {
   "cell_type": "code",
   "execution_count": 6,
   "id": "1bbc8806",
   "metadata": {},
   "outputs": [],
   "source": [
    "# Tic Tac Toe in Python\n",
    "# Created by: Ahmed Najeeb\n",
    "# Hope that you enjoy learning and playing the game\n",
    "# http://linkedin.com/in/ahmednnajeeb\n",
    "# http://ahmednajeeb.com"
   ]
  },
  {
   "cell_type": "code",
   "execution_count": 7,
   "id": "0a1f2408",
   "metadata": {},
   "outputs": [],
   "source": [
    "from IPython.display import clear_output"
   ]
  },
  {
   "cell_type": "code",
   "execution_count": 8,
   "id": "3d895a4e",
   "metadata": {},
   "outputs": [],
   "source": [
    "board = [' ']*9"
   ]
  },
  {
   "cell_type": "code",
   "execution_count": 9,
   "id": "00737cfd",
   "metadata": {},
   "outputs": [],
   "source": [
    "def game_engine():\n",
    "    #Assigning position & numbers played (The game can fill 9 positions, counter is used)\n",
    "    #Within Range to check if user input is in acceptable range\n",
    "    acceptable_range=range(1,10)\n",
    "    position = 'Wrong'\n",
    "    within_range = False\n",
    "    counter = 1\n",
    "    #Asking the players for their names\n",
    "    player1 = input('Player 1 Enter your name: ')\n",
    "    player2 = input('Player 2 Enter your name: ')\n",
    "    print(f'{player1} you will be using X, {player2} you will be O')\n",
    "    print(f'{player1} you will go first')\n",
    "    print_board()\n",
    "    won=False\n",
    "    while counter <= 9 and won==False:\n",
    "        position = 'Wrong'\n",
    "        within_range = False\n",
    "\n",
    "\n",
    "        #Asking the user for position it should be a number and in rage of 1-9\n",
    "        while position.isdigit()==False or within_range==False:\n",
    "            if counter%2!=0:\n",
    "                value='X'\n",
    "                position=input(f'{player1} enter position (1-9)')\n",
    "            else:\n",
    "                value='O'\n",
    "                position=input(f'{player2} enter position (1-9)')\n",
    "            #Checking if valid numerical value to show warning message\n",
    "            if position.isdigit()==True:\n",
    "                #If it is true will check if it is in range \n",
    "                if int(position) in acceptable_range:\n",
    "                    within_range = True\n",
    "                else:\n",
    "                    print ('Wrong range enter a number between 1-9')\n",
    "        #Clearing the output so you always have a neat display using clear_output()\n",
    "        clear_output()        \n",
    "        counter=counter+1\n",
    "        x=int(position)\n",
    "        #X-1 is used as the position in the board list starts from 0-8\n",
    "        board[x-1]=value\n",
    "        print_board()\n",
    "        won = win_check(value,board)\n",
    "        \n",
    "        if won==True:\n",
    "            print('You have won')\n",
    "            replay = input('Do you want to play again? Yes or No: ').upper()\n",
    "            if replay == 'YES':\n",
    "                won=False\n",
    "                counter=1\n",
    "                board[0]=' '\n",
    "                board[1]=' '\n",
    "                board[2]=' '\n",
    "                board[3]=' '\n",
    "                board[4]=' '\n",
    "                board[5]=' '\n",
    "                board[6]=' '\n",
    "                board[7]=' '\n",
    "                board[8]=' '\n",
    "            else:\n",
    "                won=True\n",
    "              \n",
    "        \n",
    "#This function is used to print the board\n",
    "def print_board():\n",
    "    #Printing game board\n",
    "    print(board[0]+'|'+board[1]+'|'+board[2])\n",
    "    print(board[3]+'|'+board[4]+'|'+board[5])\n",
    "    print(board[6]+'|'+board[7]+'|'+board[8])\n",
    "    \n",
    "#Check if won\n",
    "def win_check(value,board):\n",
    "    if ((board[0] == value and board[1] == value and board[2] == value) or\n",
    "    (board[3] == value and board[4] == value and board[5] == value) or\n",
    "    (board[6] == value and board[7] == value and board[8] == value) or\n",
    "    (board[0] == value and board[4] == value and board[8] == value) or\n",
    "    (board[6] == value and board[4] == value and board[2] == value) or\n",
    "    (board[0] == value and board[3] == value and board[6] == value) or\n",
    "    (board[1] == value and board[4] == value and board[7] == value) or\n",
    "    (board[2] == value and board[5] == value and board[8] == value)):\n",
    "        return True\n",
    "    else:\n",
    "        return False\n",
    "\n",
    "    "
   ]
  },
  {
   "cell_type": "code",
   "execution_count": 10,
   "id": "a71be4d3",
   "metadata": {
    "scrolled": true
   },
   "outputs": [
    {
     "name": "stdout",
     "output_type": "stream",
     "text": [
      "X|O|X\n",
      "O|X|O\n",
      "X| | \n",
      "You have won\n",
      "Do you want to play again? Yes or No: 8\n"
     ]
    }
   ],
   "source": [
    "game_engine()"
   ]
  },
  {
   "cell_type": "code",
   "execution_count": null,
   "id": "6ebd2a3a",
   "metadata": {},
   "outputs": [],
   "source": []
  }
 ],
 "metadata": {
  "kernelspec": {
   "display_name": "Python 3",
   "language": "python",
   "name": "python3"
  },
  "language_info": {
   "codemirror_mode": {
    "name": "ipython",
    "version": 3
   },
   "file_extension": ".py",
   "mimetype": "text/x-python",
   "name": "python",
   "nbconvert_exporter": "python",
   "pygments_lexer": "ipython3",
   "version": "3.8.8"
  }
 },
 "nbformat": 4,
 "nbformat_minor": 5
}
